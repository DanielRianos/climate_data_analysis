{
 "cells": [
  {
   "cell_type": "markdown",
   "id": "d08b3527-4594-49fe-b606-a8f064ff41c2",
   "metadata": {},
   "source": [
    "# European Climate Dataset"
   ]
  },
  {
   "cell_type": "markdown",
   "id": "b9587259-c5a6-4e9d-a747-de0c9edc447c",
   "metadata": {},
   "source": [
    "### 1. Import the csv file"
   ]
  },
  {
   "cell_type": "code",
   "execution_count": 1,
   "id": "d89f1938-051b-490d-b86c-aa18b1498b38",
   "metadata": {},
   "outputs": [
    {
     "data": {
      "text/html": [
       "<div>\n",
       "<style scoped>\n",
       "    .dataframe tbody tr th:only-of-type {\n",
       "        vertical-align: middle;\n",
       "    }\n",
       "\n",
       "    .dataframe tbody tr th {\n",
       "        vertical-align: top;\n",
       "    }\n",
       "\n",
       "    .dataframe thead th {\n",
       "        text-align: right;\n",
       "    }\n",
       "</style>\n",
       "<table border=\"1\" class=\"dataframe\">\n",
       "  <thead>\n",
       "    <tr style=\"text-align: right;\">\n",
       "      <th></th>\n",
       "      <th>name</th>\n",
       "      <th>alpha2</th>\n",
       "      <th>alpha3</th>\n",
       "      <th>code</th>\n",
       "      <th>lat</th>\n",
       "      <th>lon</th>\n",
       "    </tr>\n",
       "  </thead>\n",
       "  <tbody>\n",
       "    <tr>\n",
       "      <th>0</th>\n",
       "      <td>Afghanistan</td>\n",
       "      <td>AF</td>\n",
       "      <td>AFG</td>\n",
       "      <td>4</td>\n",
       "      <td>33.0000</td>\n",
       "      <td>65.0</td>\n",
       "    </tr>\n",
       "    <tr>\n",
       "      <th>1</th>\n",
       "      <td>Albania</td>\n",
       "      <td>AL</td>\n",
       "      <td>ALB</td>\n",
       "      <td>8</td>\n",
       "      <td>41.0000</td>\n",
       "      <td>20.0</td>\n",
       "    </tr>\n",
       "    <tr>\n",
       "      <th>2</th>\n",
       "      <td>Algeria</td>\n",
       "      <td>DZ</td>\n",
       "      <td>DZA</td>\n",
       "      <td>12</td>\n",
       "      <td>28.0000</td>\n",
       "      <td>3.0</td>\n",
       "    </tr>\n",
       "    <tr>\n",
       "      <th>3</th>\n",
       "      <td>American Samoa</td>\n",
       "      <td>AS</td>\n",
       "      <td>ASM</td>\n",
       "      <td>16</td>\n",
       "      <td>-14.3333</td>\n",
       "      <td>-170.0</td>\n",
       "    </tr>\n",
       "    <tr>\n",
       "      <th>4</th>\n",
       "      <td>Andorra</td>\n",
       "      <td>AD</td>\n",
       "      <td>AND</td>\n",
       "      <td>20</td>\n",
       "      <td>42.5000</td>\n",
       "      <td>1.6</td>\n",
       "    </tr>\n",
       "  </tbody>\n",
       "</table>\n",
       "</div>"
      ],
      "text/plain": [
       "             name alpha2 alpha3  code      lat    lon\n",
       "0     Afghanistan     AF    AFG     4  33.0000   65.0\n",
       "1         Albania     AL    ALB     8  41.0000   20.0\n",
       "2         Algeria     DZ    DZA    12  28.0000    3.0\n",
       "3  American Samoa     AS    ASM    16 -14.3333 -170.0\n",
       "4         Andorra     AD    AND    20  42.5000    1.6"
      ]
     },
     "execution_count": 1,
     "metadata": {},
     "output_type": "execute_result"
    }
   ],
   "source": [
    "import pandas as pd\n",
    "countries = pd.read_csv('data_sets/country_codes.csv')\n",
    "countries.head()"
   ]
  },
  {
   "cell_type": "markdown",
   "id": "883933e3-76fb-4c49-ba22-655eb2d267f0",
   "metadata": {},
   "source": [
    "### 2. With Python, define a countries table in the climate database"
   ]
  },
  {
   "cell_type": "code",
   "execution_count": 2,
   "id": "6c61f65d-c9f1-4af4-831b-6bd15e8ba487",
   "metadata": {},
   "outputs": [],
   "source": [
    "from sqlalchemy import create_engine\n",
    "import os\n",
    "from dotenv import load_dotenv"
   ]
  },
  {
   "cell_type": "code",
   "execution_count": 3,
   "id": "76bc57bc-b999-4e0c-918c-ac331d976f90",
   "metadata": {},
   "outputs": [
    {
     "data": {
      "text/plain": [
       "True"
      ]
     },
     "execution_count": 3,
     "metadata": {},
     "output_type": "execute_result"
    }
   ],
   "source": [
    "load_dotenv('.env')"
   ]
  },
  {
   "cell_type": "code",
   "execution_count": 4,
   "id": "41208e20-ab9b-4c02-934e-a0b5aafaf007",
   "metadata": {},
   "outputs": [],
   "source": [
    "URL_climate = os.getenv('url')"
   ]
  },
  {
   "cell_type": "code",
   "execution_count": 5,
   "id": "fd02e9e1-b8f4-4d61-9b52-4f9419dac211",
   "metadata": {
    "tags": []
   },
   "outputs": [],
   "source": [
    "# Create the connection to the DataBase\n",
    "\n",
    "engine = create_engine(URL_climate, echo=False)"
   ]
  },
  {
   "cell_type": "markdown",
   "id": "a53cbe37-70c6-4ae5-a325-3d4202e7141d",
   "metadata": {},
   "source": [
    "### 3. Load the data frame into the countries table\n",
    "\n",
    "#### Use this script as a reference:"
   ]
  },
  {
   "cell_type": "code",
   "execution_count": 6,
   "id": "9bf7006c-e52a-4f0a-b4a6-23bf2b0b673e",
   "metadata": {},
   "outputs": [],
   "source": [
    "#Connect to the database and create the table in this Database.\n",
    "\n",
    "with engine.begin() as conn:\n",
    "    conn.execute(\"DROP TABLE IF EXISTS countries CASCADE;\")\n",
    "    conn.execute(\"\"\"\n",
    "        CREATE TABLE countries (\n",
    "            alpha2 VARCHAR(2) PRIMARY KEY,\n",
    "            name VARCHAR,\n",
    "            alpha3 VARCHAR(3),\n",
    "            code INT,\n",
    "            lat NUMERIC,\n",
    "            lon NUMERIC\n",
    "        );\n",
    "    \"\"\")"
   ]
  },
  {
   "cell_type": "code",
   "execution_count": 7,
   "id": "e06061a8-db0f-4bdc-bdf2-23b753ead84e",
   "metadata": {},
   "outputs": [
    {
     "data": {
      "text/plain": [
       "243"
      ]
     },
     "execution_count": 7,
     "metadata": {},
     "output_type": "execute_result"
    }
   ],
   "source": [
    "#Uploading the dataframe stored in the jupiter notebook to the database\n",
    "\n",
    "countries.to_sql('countries', engine, if_exists='append', index= False)"
   ]
  },
  {
   "cell_type": "code",
   "execution_count": 8,
   "id": "61b1242d-8e41-4b9c-a4a4-dc7ee7c1a442",
   "metadata": {},
   "outputs": [
    {
     "data": {
      "text/html": [
       "<div>\n",
       "<style scoped>\n",
       "    .dataframe tbody tr th:only-of-type {\n",
       "        vertical-align: middle;\n",
       "    }\n",
       "\n",
       "    .dataframe tbody tr th {\n",
       "        vertical-align: top;\n",
       "    }\n",
       "\n",
       "    .dataframe thead th {\n",
       "        text-align: right;\n",
       "    }\n",
       "</style>\n",
       "<table border=\"1\" class=\"dataframe\">\n",
       "  <thead>\n",
       "    <tr style=\"text-align: right;\">\n",
       "      <th></th>\n",
       "      <th>name</th>\n",
       "      <th>alpha2</th>\n",
       "      <th>alpha3</th>\n",
       "      <th>code</th>\n",
       "      <th>lat</th>\n",
       "      <th>lon</th>\n",
       "    </tr>\n",
       "  </thead>\n",
       "  <tbody>\n",
       "    <tr>\n",
       "      <th>0</th>\n",
       "      <td>Afghanistan</td>\n",
       "      <td>AF</td>\n",
       "      <td>AFG</td>\n",
       "      <td>4</td>\n",
       "      <td>33.0000</td>\n",
       "      <td>65.0</td>\n",
       "    </tr>\n",
       "    <tr>\n",
       "      <th>1</th>\n",
       "      <td>Albania</td>\n",
       "      <td>AL</td>\n",
       "      <td>ALB</td>\n",
       "      <td>8</td>\n",
       "      <td>41.0000</td>\n",
       "      <td>20.0</td>\n",
       "    </tr>\n",
       "    <tr>\n",
       "      <th>2</th>\n",
       "      <td>Algeria</td>\n",
       "      <td>DZ</td>\n",
       "      <td>DZA</td>\n",
       "      <td>12</td>\n",
       "      <td>28.0000</td>\n",
       "      <td>3.0</td>\n",
       "    </tr>\n",
       "    <tr>\n",
       "      <th>3</th>\n",
       "      <td>American Samoa</td>\n",
       "      <td>AS</td>\n",
       "      <td>ASM</td>\n",
       "      <td>16</td>\n",
       "      <td>-14.3333</td>\n",
       "      <td>-170.0</td>\n",
       "    </tr>\n",
       "    <tr>\n",
       "      <th>4</th>\n",
       "      <td>Andorra</td>\n",
       "      <td>AD</td>\n",
       "      <td>AND</td>\n",
       "      <td>20</td>\n",
       "      <td>42.5000</td>\n",
       "      <td>1.6</td>\n",
       "    </tr>\n",
       "    <tr>\n",
       "      <th>...</th>\n",
       "      <td>...</td>\n",
       "      <td>...</td>\n",
       "      <td>...</td>\n",
       "      <td>...</td>\n",
       "      <td>...</td>\n",
       "      <td>...</td>\n",
       "    </tr>\n",
       "    <tr>\n",
       "      <th>238</th>\n",
       "      <td>Wallis and Futuna</td>\n",
       "      <td>WF</td>\n",
       "      <td>WLF</td>\n",
       "      <td>876</td>\n",
       "      <td>-13.3000</td>\n",
       "      <td>-176.2</td>\n",
       "    </tr>\n",
       "    <tr>\n",
       "      <th>239</th>\n",
       "      <td>Western Sahara</td>\n",
       "      <td>EH</td>\n",
       "      <td>ESH</td>\n",
       "      <td>732</td>\n",
       "      <td>24.5000</td>\n",
       "      <td>-13.0</td>\n",
       "    </tr>\n",
       "    <tr>\n",
       "      <th>240</th>\n",
       "      <td>Yemen</td>\n",
       "      <td>YE</td>\n",
       "      <td>YEM</td>\n",
       "      <td>887</td>\n",
       "      <td>15.0000</td>\n",
       "      <td>48.0</td>\n",
       "    </tr>\n",
       "    <tr>\n",
       "      <th>241</th>\n",
       "      <td>Zambia</td>\n",
       "      <td>ZM</td>\n",
       "      <td>ZMB</td>\n",
       "      <td>894</td>\n",
       "      <td>-15.0000</td>\n",
       "      <td>30.0</td>\n",
       "    </tr>\n",
       "    <tr>\n",
       "      <th>242</th>\n",
       "      <td>Zimbabwe</td>\n",
       "      <td>ZW</td>\n",
       "      <td>ZWE</td>\n",
       "      <td>716</td>\n",
       "      <td>-20.0000</td>\n",
       "      <td>30.0</td>\n",
       "    </tr>\n",
       "  </tbody>\n",
       "</table>\n",
       "<p>243 rows × 6 columns</p>\n",
       "</div>"
      ],
      "text/plain": [
       "                  name alpha2 alpha3  code      lat    lon\n",
       "0          Afghanistan     AF    AFG     4  33.0000   65.0\n",
       "1              Albania     AL    ALB     8  41.0000   20.0\n",
       "2              Algeria     DZ    DZA    12  28.0000    3.0\n",
       "3       American Samoa     AS    ASM    16 -14.3333 -170.0\n",
       "4              Andorra     AD    AND    20  42.5000    1.6\n",
       "..                 ...    ...    ...   ...      ...    ...\n",
       "238  Wallis and Futuna     WF    WLF   876 -13.3000 -176.2\n",
       "239     Western Sahara     EH    ESH   732  24.5000  -13.0\n",
       "240              Yemen     YE    YEM   887  15.0000   48.0\n",
       "241             Zambia     ZM    ZMB   894 -15.0000   30.0\n",
       "242           Zimbabwe     ZW    ZWE   716 -20.0000   30.0\n",
       "\n",
       "[243 rows x 6 columns]"
      ]
     },
     "execution_count": 8,
     "metadata": {},
     "output_type": "execute_result"
    }
   ],
   "source": [
    "countries"
   ]
  },
  {
   "cell_type": "markdown",
   "id": "e2eb6410-cafb-42aa-9ab8-1b9626b8f650",
   "metadata": {},
   "source": [
    "# Stations Data"
   ]
  },
  {
   "cell_type": "markdown",
   "id": "cf6a7751-6002-459a-ab8b-31babdc71613",
   "metadata": {},
   "source": [
    "##### Using the stations file found in the downloaded ECA_blend data folder proceed with it in the same way as for the countries data from the previous exercise. Use the downloaded stations file as it will have all stations found in the downloaded datasets."
   ]
  },
  {
   "cell_type": "code",
   "execution_count": 9,
   "id": "1463069c-fbb1-4d55-951e-4d792b995f25",
   "metadata": {},
   "outputs": [
    {
     "data": {
      "text/html": [
       "<div>\n",
       "<style scoped>\n",
       "    .dataframe tbody tr th:only-of-type {\n",
       "        vertical-align: middle;\n",
       "    }\n",
       "\n",
       "    .dataframe tbody tr th {\n",
       "        vertical-align: top;\n",
       "    }\n",
       "\n",
       "    .dataframe thead th {\n",
       "        text-align: right;\n",
       "    }\n",
       "</style>\n",
       "<table border=\"1\" class=\"dataframe\">\n",
       "  <thead>\n",
       "    <tr style=\"text-align: right;\">\n",
       "      <th></th>\n",
       "      <th>STAID</th>\n",
       "      <th>STANAME</th>\n",
       "      <th>CN</th>\n",
       "      <th>LAT</th>\n",
       "      <th>LON</th>\n",
       "      <th>HGHT</th>\n",
       "    </tr>\n",
       "  </thead>\n",
       "  <tbody>\n",
       "    <tr>\n",
       "      <th>0</th>\n",
       "      <td>1</td>\n",
       "      <td>VAEXJOE</td>\n",
       "      <td>SE</td>\n",
       "      <td>+56:52:00</td>\n",
       "      <td>+014:48:00</td>\n",
       "      <td>166</td>\n",
       "    </tr>\n",
       "    <tr>\n",
       "      <th>1</th>\n",
       "      <td>2</td>\n",
       "      <td>FALUN</td>\n",
       "      <td>SE</td>\n",
       "      <td>+60:37:00</td>\n",
       "      <td>+015:37:00</td>\n",
       "      <td>160</td>\n",
       "    </tr>\n",
       "    <tr>\n",
       "      <th>2</th>\n",
       "      <td>3</td>\n",
       "      <td>STENSELE</td>\n",
       "      <td>SE</td>\n",
       "      <td>+65:04:00</td>\n",
       "      <td>+017:09:59</td>\n",
       "      <td>325</td>\n",
       "    </tr>\n",
       "    <tr>\n",
       "      <th>3</th>\n",
       "      <td>4</td>\n",
       "      <td>LINKOEPING</td>\n",
       "      <td>SE</td>\n",
       "      <td>+58:24:00</td>\n",
       "      <td>+015:31:59</td>\n",
       "      <td>93</td>\n",
       "    </tr>\n",
       "    <tr>\n",
       "      <th>4</th>\n",
       "      <td>5</td>\n",
       "      <td>LINKOEPING-MALMSLAETT</td>\n",
       "      <td>SE</td>\n",
       "      <td>+58:24:00</td>\n",
       "      <td>+015:31:59</td>\n",
       "      <td>93</td>\n",
       "    </tr>\n",
       "  </tbody>\n",
       "</table>\n",
       "</div>"
      ],
      "text/plain": [
       "   STAID      STANAME                                     CN        LAT  \\\n",
       "0      1  VAEXJOE                                       SE    +56:52:00   \n",
       "1      2  FALUN                                         SE    +60:37:00   \n",
       "2      3  STENSELE                                      SE    +65:04:00   \n",
       "3      4  LINKOEPING                                    SE    +58:24:00   \n",
       "4      5  LINKOEPING-MALMSLAETT                         SE    +58:24:00   \n",
       "\n",
       "          LON  HGHT  \n",
       "0  +014:48:00   166  \n",
       "1  +015:37:00   160  \n",
       "2  +017:09:59   325  \n",
       "3  +015:31:59    93  \n",
       "4  +015:31:59    93  "
      ]
     },
     "execution_count": 9,
     "metadata": {},
     "output_type": "execute_result"
    }
   ],
   "source": [
    "stations = pd.read_csv('data_sets/ECA_blend_tg/stations.txt', skiprows= 17)\n",
    "stations.head()"
   ]
  },
  {
   "cell_type": "markdown",
   "id": "3c8bf3a6-a33a-47de-a40e-67f5308669c3",
   "metadata": {},
   "source": [
    "## Data cleanup\n",
    "\n",
    "##### 3. You need to cleanup the column names of the file. Watch out for whitespace and convert the names to lowercase"
   ]
  },
  {
   "cell_type": "code",
   "execution_count": 10,
   "id": "4a3573a7-6ec2-4fb4-bb5f-18e852f9ea3c",
   "metadata": {},
   "outputs": [
    {
     "data": {
      "text/plain": [
       "Index(['STAID', 'STANAME                                 ', 'CN', '      LAT',\n",
       "       '       LON', 'HGHT'],\n",
       "      dtype='object')"
      ]
     },
     "execution_count": 10,
     "metadata": {},
     "output_type": "execute_result"
    }
   ],
   "source": [
    "# Some of the names have extra white spaces.\n",
    "\n",
    "stations.columns"
   ]
  },
  {
   "cell_type": "code",
   "execution_count": 11,
   "id": "00743cc9-e084-4959-a4fa-f8bdfc92d44f",
   "metadata": {},
   "outputs": [],
   "source": [
    "stations.rename(columns = {'STANAME                                 ':'STANAME','      LAT':'LAT','       LON':'LON','HGHT':'HIGHT'}, inplace = True)"
   ]
  },
  {
   "cell_type": "code",
   "execution_count": 12,
   "id": "9985fe97-8b33-425b-9b4e-299195daf29e",
   "metadata": {},
   "outputs": [
    {
     "data": {
      "text/plain": [
       "Index(['STAID', 'STANAME', 'CN', 'LAT', 'LON', 'HIGHT'], dtype='object')"
      ]
     },
     "execution_count": 12,
     "metadata": {},
     "output_type": "execute_result"
    }
   ],
   "source": [
    "stations.columns"
   ]
  },
  {
   "cell_type": "code",
   "execution_count": 13,
   "id": "83cfcc4d-6240-4bc0-b11b-080776127a99",
   "metadata": {},
   "outputs": [],
   "source": [
    "# Transform the names to lowercase \n",
    "\n",
    "stations['STANAME'] = stations['STANAME'].str.lower()"
   ]
  },
  {
   "cell_type": "code",
   "execution_count": 14,
   "id": "4a3f654a-ed1e-42fb-9325-55d46e1c868d",
   "metadata": {},
   "outputs": [
    {
     "data": {
      "text/html": [
       "<div>\n",
       "<style scoped>\n",
       "    .dataframe tbody tr th:only-of-type {\n",
       "        vertical-align: middle;\n",
       "    }\n",
       "\n",
       "    .dataframe tbody tr th {\n",
       "        vertical-align: top;\n",
       "    }\n",
       "\n",
       "    .dataframe thead th {\n",
       "        text-align: right;\n",
       "    }\n",
       "</style>\n",
       "<table border=\"1\" class=\"dataframe\">\n",
       "  <thead>\n",
       "    <tr style=\"text-align: right;\">\n",
       "      <th></th>\n",
       "      <th>staid</th>\n",
       "      <th>staname</th>\n",
       "      <th>cn</th>\n",
       "      <th>lat</th>\n",
       "      <th>lon</th>\n",
       "      <th>hight</th>\n",
       "    </tr>\n",
       "  </thead>\n",
       "  <tbody>\n",
       "    <tr>\n",
       "      <th>0</th>\n",
       "      <td>1</td>\n",
       "      <td>vaexjoe</td>\n",
       "      <td>SE</td>\n",
       "      <td>+56:52:00</td>\n",
       "      <td>+014:48:00</td>\n",
       "      <td>166</td>\n",
       "    </tr>\n",
       "    <tr>\n",
       "      <th>1</th>\n",
       "      <td>2</td>\n",
       "      <td>falun</td>\n",
       "      <td>SE</td>\n",
       "      <td>+60:37:00</td>\n",
       "      <td>+015:37:00</td>\n",
       "      <td>160</td>\n",
       "    </tr>\n",
       "    <tr>\n",
       "      <th>2</th>\n",
       "      <td>3</td>\n",
       "      <td>stensele</td>\n",
       "      <td>SE</td>\n",
       "      <td>+65:04:00</td>\n",
       "      <td>+017:09:59</td>\n",
       "      <td>325</td>\n",
       "    </tr>\n",
       "    <tr>\n",
       "      <th>3</th>\n",
       "      <td>4</td>\n",
       "      <td>linkoeping</td>\n",
       "      <td>SE</td>\n",
       "      <td>+58:24:00</td>\n",
       "      <td>+015:31:59</td>\n",
       "      <td>93</td>\n",
       "    </tr>\n",
       "    <tr>\n",
       "      <th>4</th>\n",
       "      <td>5</td>\n",
       "      <td>linkoeping-malmslaett</td>\n",
       "      <td>SE</td>\n",
       "      <td>+58:24:00</td>\n",
       "      <td>+015:31:59</td>\n",
       "      <td>93</td>\n",
       "    </tr>\n",
       "  </tbody>\n",
       "</table>\n",
       "</div>"
      ],
      "text/plain": [
       "   staid                                       staname    cn        lat  \\\n",
       "0      1  vaexjoe                                       SE    +56:52:00   \n",
       "1      2  falun                                         SE    +60:37:00   \n",
       "2      3  stensele                                      SE    +65:04:00   \n",
       "3      4  linkoeping                                    SE    +58:24:00   \n",
       "4      5  linkoeping-malmslaett                         SE    +58:24:00   \n",
       "\n",
       "          lon  hight  \n",
       "0  +014:48:00    166  \n",
       "1  +015:37:00    160  \n",
       "2  +017:09:59    325  \n",
       "3  +015:31:59     93  \n",
       "4  +015:31:59     93  "
      ]
     },
     "execution_count": 14,
     "metadata": {},
     "output_type": "execute_result"
    }
   ],
   "source": [
    "stations.columns = stations.columns.str.lower()\n",
    "stations.head()"
   ]
  },
  {
   "cell_type": "code",
   "execution_count": 15,
   "id": "d3dbb68c-a13c-4482-952e-564fcf7de21f",
   "metadata": {},
   "outputs": [
    {
     "data": {
      "text/plain": [
       "Index(['staid', 'staname', 'cn', 'lat', 'lon', 'hight'], dtype='object')"
      ]
     },
     "execution_count": 15,
     "metadata": {},
     "output_type": "execute_result"
    }
   ],
   "source": [
    "stations.columns"
   ]
  },
  {
   "cell_type": "code",
   "execution_count": 16,
   "id": "3a705a1e-3db7-46cc-92c4-dba04c060dcc",
   "metadata": {},
   "outputs": [],
   "source": [
    "# 'cn' column values have extra white spaces\n",
    "\n",
    "# Option 1 to remove white spaces: using .str.strip() on the the column directly.\n",
    "# Warning: it only works if the column values type is string. \n",
    "\n",
    "stations['cn']= stations['cn'].str.strip()"
   ]
  },
  {
   "cell_type": "code",
   "execution_count": 17,
   "id": "5fc4d5f4-2e44-4094-a921-88bb56b927d5",
   "metadata": {},
   "outputs": [
    {
     "data": {
      "text/plain": [
       "['staid', 'staname', 'cn', 'lat', 'lon', 'hight']"
      ]
     },
     "execution_count": 17,
     "metadata": {},
     "output_type": "execute_result"
    }
   ],
   "source": [
    "stations.columns.to_list()"
   ]
  },
  {
   "cell_type": "code",
   "execution_count": 18,
   "id": "2efd273c-7353-4275-8058-d02b4e965e48",
   "metadata": {},
   "outputs": [],
   "source": [
    "# Option 2 to remove extra white spaces: create a new list with the columns with values having\n",
    "# extra white spaces, run a for loop in this list and use str.strip(). \n",
    "\n",
    "new_list = ['staname','cn']\n",
    "for column in new_list:\n",
    "    stations[column]= stations[column].str.strip()"
   ]
  },
  {
   "cell_type": "markdown",
   "id": "fdbc6624-3160-4270-902b-a3e29c398973",
   "metadata": {},
   "source": [
    "##### 4. Add a foreign key constraint for the cn column and let it point to the alpha2 column of the countries table"
   ]
  },
  {
   "cell_type": "code",
   "execution_count": 19,
   "id": "d03abeec-61df-48f7-8922-ee05d572ef6e",
   "metadata": {
    "tags": []
   },
   "outputs": [],
   "source": [
    "with engine.begin() as conn:\n",
    "    conn.execute(\"\"\"\n",
    "        DROP TABLE IF EXISTS stations CASCADE;\n",
    "        CREATE TABLE stations (\n",
    "            staid INT,\n",
    "            staname VARCHAR,\n",
    "            cn VARCHAR REFERENCES countries(alpha2),\n",
    "            lat VARCHAR,\n",
    "            lon VARCHAR, \n",
    "            hight VARCHAR\n",
    "        );    \n",
    "    \"\"\")"
   ]
  },
  {
   "cell_type": "code",
   "execution_count": 20,
   "id": "270a29e0-2e72-42d5-946a-229eef4012c0",
   "metadata": {},
   "outputs": [
    {
     "data": {
      "text/plain": [
       "455"
      ]
     },
     "execution_count": 20,
     "metadata": {},
     "output_type": "execute_result"
    }
   ],
   "source": [
    "stations.to_sql('stations', engine, if_exists='append', index=False)"
   ]
  },
  {
   "cell_type": "code",
   "execution_count": 21,
   "id": "e8b66170-977e-4195-b1d5-070d10b04083",
   "metadata": {},
   "outputs": [
    {
     "data": {
      "text/html": [
       "<div>\n",
       "<style scoped>\n",
       "    .dataframe tbody tr th:only-of-type {\n",
       "        vertical-align: middle;\n",
       "    }\n",
       "\n",
       "    .dataframe tbody tr th {\n",
       "        vertical-align: top;\n",
       "    }\n",
       "\n",
       "    .dataframe thead th {\n",
       "        text-align: right;\n",
       "    }\n",
       "</style>\n",
       "<table border=\"1\" class=\"dataframe\">\n",
       "  <thead>\n",
       "    <tr style=\"text-align: right;\">\n",
       "      <th></th>\n",
       "      <th>staid</th>\n",
       "      <th>staname</th>\n",
       "      <th>cn</th>\n",
       "      <th>lat</th>\n",
       "      <th>lon</th>\n",
       "      <th>hight</th>\n",
       "    </tr>\n",
       "  </thead>\n",
       "  <tbody>\n",
       "    <tr>\n",
       "      <th>0</th>\n",
       "      <td>1</td>\n",
       "      <td>vaexjoe</td>\n",
       "      <td>SE</td>\n",
       "      <td>+56:52:00</td>\n",
       "      <td>+014:48:00</td>\n",
       "      <td>166</td>\n",
       "    </tr>\n",
       "    <tr>\n",
       "      <th>1</th>\n",
       "      <td>2</td>\n",
       "      <td>falun</td>\n",
       "      <td>SE</td>\n",
       "      <td>+60:37:00</td>\n",
       "      <td>+015:37:00</td>\n",
       "      <td>160</td>\n",
       "    </tr>\n",
       "    <tr>\n",
       "      <th>2</th>\n",
       "      <td>3</td>\n",
       "      <td>stensele</td>\n",
       "      <td>SE</td>\n",
       "      <td>+65:04:00</td>\n",
       "      <td>+017:09:59</td>\n",
       "      <td>325</td>\n",
       "    </tr>\n",
       "    <tr>\n",
       "      <th>3</th>\n",
       "      <td>4</td>\n",
       "      <td>linkoeping</td>\n",
       "      <td>SE</td>\n",
       "      <td>+58:24:00</td>\n",
       "      <td>+015:31:59</td>\n",
       "      <td>93</td>\n",
       "    </tr>\n",
       "    <tr>\n",
       "      <th>4</th>\n",
       "      <td>5</td>\n",
       "      <td>linkoeping-malmslaett</td>\n",
       "      <td>SE</td>\n",
       "      <td>+58:24:00</td>\n",
       "      <td>+015:31:59</td>\n",
       "      <td>93</td>\n",
       "    </tr>\n",
       "    <tr>\n",
       "      <th>...</th>\n",
       "      <td>...</td>\n",
       "      <td>...</td>\n",
       "      <td>...</td>\n",
       "      <td>...</td>\n",
       "      <td>...</td>\n",
       "      <td>...</td>\n",
       "    </tr>\n",
       "    <tr>\n",
       "      <th>6450</th>\n",
       "      <td>25150</td>\n",
       "      <td>gdansk-rebiechowo_old</td>\n",
       "      <td>PL</td>\n",
       "      <td>+54:22:59</td>\n",
       "      <td>+018:28:00</td>\n",
       "      <td>144</td>\n",
       "    </tr>\n",
       "    <tr>\n",
       "      <th>6451</th>\n",
       "      <td>25151</td>\n",
       "      <td>elblag-milejewo</td>\n",
       "      <td>PL</td>\n",
       "      <td>+54:13:23</td>\n",
       "      <td>+019:32:36</td>\n",
       "      <td>151</td>\n",
       "    </tr>\n",
       "    <tr>\n",
       "      <th>6452</th>\n",
       "      <td>25156</td>\n",
       "      <td>krosno</td>\n",
       "      <td>PL</td>\n",
       "      <td>+49:42:24</td>\n",
       "      <td>+021:46:09</td>\n",
       "      <td>326</td>\n",
       "    </tr>\n",
       "    <tr>\n",
       "      <th>6453</th>\n",
       "      <td>25157</td>\n",
       "      <td>ylja kraftverk</td>\n",
       "      <td>NO</td>\n",
       "      <td>+61:11:49</td>\n",
       "      <td>+008:22:50</td>\n",
       "      <td>517</td>\n",
       "    </tr>\n",
       "    <tr>\n",
       "      <th>6454</th>\n",
       "      <td>25159</td>\n",
       "      <td>farkollen</td>\n",
       "      <td>NO</td>\n",
       "      <td>+69:48:15</td>\n",
       "      <td>+028:59:36</td>\n",
       "      <td>321</td>\n",
       "    </tr>\n",
       "  </tbody>\n",
       "</table>\n",
       "<p>6455 rows × 6 columns</p>\n",
       "</div>"
      ],
      "text/plain": [
       "      staid                staname  cn        lat         lon  hight\n",
       "0         1                vaexjoe  SE  +56:52:00  +014:48:00    166\n",
       "1         2                  falun  SE  +60:37:00  +015:37:00    160\n",
       "2         3               stensele  SE  +65:04:00  +017:09:59    325\n",
       "3         4             linkoeping  SE  +58:24:00  +015:31:59     93\n",
       "4         5  linkoeping-malmslaett  SE  +58:24:00  +015:31:59     93\n",
       "...     ...                    ...  ..        ...         ...    ...\n",
       "6450  25150  gdansk-rebiechowo_old  PL  +54:22:59  +018:28:00    144\n",
       "6451  25151        elblag-milejewo  PL  +54:13:23  +019:32:36    151\n",
       "6452  25156                 krosno  PL  +49:42:24  +021:46:09    326\n",
       "6453  25157         ylja kraftverk  NO  +61:11:49  +008:22:50    517\n",
       "6454  25159              farkollen  NO  +69:48:15  +028:59:36    321\n",
       "\n",
       "[6455 rows x 6 columns]"
      ]
     },
     "execution_count": 21,
     "metadata": {},
     "output_type": "execute_result"
    }
   ],
   "source": [
    "stations"
   ]
  },
  {
   "cell_type": "code",
   "execution_count": 22,
   "id": "e05a71fb-1310-430b-9516-9d78ba1e5c8c",
   "metadata": {},
   "outputs": [
    {
     "name": "stdout",
     "output_type": "stream",
     "text": [
      "[(1, 'vaexjoe', 'SE', '+56:52:00', '+014:48:00', '166'), (2, 'falun', 'SE', '+60:37:00', '+015:37:00', '160'), (3, 'stensele', 'SE', '+65:04:00', '+017:09:59', '325'), (4, 'linkoeping', 'SE', '+58:24:00', '+015:31:59', '93'), (5, 'linkoeping-malmslaett', 'SE', '+58:24:00', '+015:31:59', '93')]\n"
     ]
    }
   ],
   "source": [
    "#reading the table \"station\" already in the database.\n",
    "\n",
    "with engine.begin() as conn: \n",
    "    result = conn.execute(\"\"\"\n",
    "        TABLE stations\n",
    "        Limit 5;\"\"\")\n",
    "    data = result.all()\n",
    "print(data)"
   ]
  },
  {
   "cell_type": "code",
   "execution_count": 23,
   "id": "4afb341b-09ba-4d18-9ab4-320e3c464bd3",
   "metadata": {},
   "outputs": [],
   "source": [
    "stations_df= pd.DataFrame(data, index = None)"
   ]
  },
  {
   "cell_type": "code",
   "execution_count": 24,
   "id": "3b4a6b07-5a30-4d4c-b04c-4ea21a5dc520",
   "metadata": {},
   "outputs": [
    {
     "name": "stdout",
     "output_type": "stream",
     "text": [
      "[('AF', 'Afghanistan', 'AFG', 4, Decimal('33.0'), Decimal('65.0')), ('AL', 'Albania', 'ALB', 8, Decimal('41.0'), Decimal('20.0')), ('DZ', 'Algeria', 'DZA', 12, Decimal('28.0'), Decimal('3.0')), ('AS', 'American Samoa', 'ASM', 16, Decimal('-14.3333'), Decimal('-170.0')), ('AD', 'Andorra', 'AND', 20, Decimal('42.5'), Decimal('1.6'))]\n"
     ]
    }
   ],
   "source": [
    "#reading the table \"countries\" already on the database.\n",
    "\n",
    "with engine.begin() as conn: \n",
    "    result = conn.execute(\"\"\"\n",
    "        TABLE countries\n",
    "        Limit 5;\"\"\")\n",
    "    data = result.all()\n",
    "print(data)"
   ]
  },
  {
   "cell_type": "code",
   "execution_count": 25,
   "id": "5addc499-a508-4653-88ad-f0edd3b780e8",
   "metadata": {},
   "outputs": [
    {
     "data": {
      "text/html": [
       "<div>\n",
       "<style scoped>\n",
       "    .dataframe tbody tr th:only-of-type {\n",
       "        vertical-align: middle;\n",
       "    }\n",
       "\n",
       "    .dataframe tbody tr th {\n",
       "        vertical-align: top;\n",
       "    }\n",
       "\n",
       "    .dataframe thead th {\n",
       "        text-align: right;\n",
       "    }\n",
       "</style>\n",
       "<table border=\"1\" class=\"dataframe\">\n",
       "  <thead>\n",
       "    <tr style=\"text-align: right;\">\n",
       "      <th></th>\n",
       "      <th>alpha2</th>\n",
       "      <th>name</th>\n",
       "      <th>alpha3</th>\n",
       "      <th>code</th>\n",
       "      <th>lat</th>\n",
       "      <th>lon</th>\n",
       "    </tr>\n",
       "  </thead>\n",
       "  <tbody>\n",
       "    <tr>\n",
       "      <th>0</th>\n",
       "      <td>AF</td>\n",
       "      <td>Afghanistan</td>\n",
       "      <td>AFG</td>\n",
       "      <td>4</td>\n",
       "      <td>33.0</td>\n",
       "      <td>65.0</td>\n",
       "    </tr>\n",
       "    <tr>\n",
       "      <th>1</th>\n",
       "      <td>AL</td>\n",
       "      <td>Albania</td>\n",
       "      <td>ALB</td>\n",
       "      <td>8</td>\n",
       "      <td>41.0</td>\n",
       "      <td>20.0</td>\n",
       "    </tr>\n",
       "    <tr>\n",
       "      <th>2</th>\n",
       "      <td>DZ</td>\n",
       "      <td>Algeria</td>\n",
       "      <td>DZA</td>\n",
       "      <td>12</td>\n",
       "      <td>28.0</td>\n",
       "      <td>3.0</td>\n",
       "    </tr>\n",
       "    <tr>\n",
       "      <th>3</th>\n",
       "      <td>AS</td>\n",
       "      <td>American Samoa</td>\n",
       "      <td>ASM</td>\n",
       "      <td>16</td>\n",
       "      <td>-14.3333</td>\n",
       "      <td>-170.0</td>\n",
       "    </tr>\n",
       "    <tr>\n",
       "      <th>4</th>\n",
       "      <td>AD</td>\n",
       "      <td>Andorra</td>\n",
       "      <td>AND</td>\n",
       "      <td>20</td>\n",
       "      <td>42.5</td>\n",
       "      <td>1.6</td>\n",
       "    </tr>\n",
       "  </tbody>\n",
       "</table>\n",
       "</div>"
      ],
      "text/plain": [
       "  alpha2            name alpha3  code       lat     lon\n",
       "0     AF     Afghanistan    AFG     4      33.0    65.0\n",
       "1     AL         Albania    ALB     8      41.0    20.0\n",
       "2     DZ         Algeria    DZA    12      28.0     3.0\n",
       "3     AS  American Samoa    ASM    16  -14.3333  -170.0\n",
       "4     AD         Andorra    AND    20      42.5     1.6"
      ]
     },
     "execution_count": 25,
     "metadata": {},
     "output_type": "execute_result"
    }
   ],
   "source": [
    "pd.DataFrame(data)"
   ]
  },
  {
   "cell_type": "code",
   "execution_count": 26,
   "id": "1d78dc72-d248-457d-8b2e-325a2f954419",
   "metadata": {
    "tags": []
   },
   "outputs": [],
   "source": [
    "#Reading and Running SQL statments\n",
    "\n",
    "with engine.begin() as conn: \n",
    "    result = conn.execute(\"\"\"\n",
    "        SELECT *\n",
    "        FROM stations st\n",
    "        JOIN countries cnt\n",
    "        ON st.cn = cnt.alpha2;\"\"\")\n",
    "    data = result.all()\n",
    "#print(data)"
   ]
  },
  {
   "cell_type": "code",
   "execution_count": 27,
   "id": "2369a6a8-b7e6-46f1-9f4d-c09e6f37fed5",
   "metadata": {
    "tags": []
   },
   "outputs": [
    {
     "data": {
      "text/html": [
       "<div>\n",
       "<style scoped>\n",
       "    .dataframe tbody tr th:only-of-type {\n",
       "        vertical-align: middle;\n",
       "    }\n",
       "\n",
       "    .dataframe tbody tr th {\n",
       "        vertical-align: top;\n",
       "    }\n",
       "\n",
       "    .dataframe thead th {\n",
       "        text-align: right;\n",
       "    }\n",
       "</style>\n",
       "<table border=\"1\" class=\"dataframe\">\n",
       "  <thead>\n",
       "    <tr style=\"text-align: right;\">\n",
       "      <th></th>\n",
       "      <th>staid</th>\n",
       "      <th>staname</th>\n",
       "      <th>cn</th>\n",
       "      <th>lat</th>\n",
       "      <th>lon</th>\n",
       "      <th>hight</th>\n",
       "      <th>alpha2</th>\n",
       "      <th>name</th>\n",
       "      <th>alpha3</th>\n",
       "      <th>code</th>\n",
       "      <th>lat</th>\n",
       "      <th>lon</th>\n",
       "    </tr>\n",
       "  </thead>\n",
       "  <tbody>\n",
       "    <tr>\n",
       "      <th>0</th>\n",
       "      <td>1</td>\n",
       "      <td>vaexjoe</td>\n",
       "      <td>SE</td>\n",
       "      <td>+56:52:00</td>\n",
       "      <td>+014:48:00</td>\n",
       "      <td>166</td>\n",
       "      <td>SE</td>\n",
       "      <td>Sweden</td>\n",
       "      <td>SWE</td>\n",
       "      <td>752</td>\n",
       "      <td>62.0</td>\n",
       "      <td>15.0</td>\n",
       "    </tr>\n",
       "    <tr>\n",
       "      <th>1</th>\n",
       "      <td>2</td>\n",
       "      <td>falun</td>\n",
       "      <td>SE</td>\n",
       "      <td>+60:37:00</td>\n",
       "      <td>+015:37:00</td>\n",
       "      <td>160</td>\n",
       "      <td>SE</td>\n",
       "      <td>Sweden</td>\n",
       "      <td>SWE</td>\n",
       "      <td>752</td>\n",
       "      <td>62.0</td>\n",
       "      <td>15.0</td>\n",
       "    </tr>\n",
       "    <tr>\n",
       "      <th>2</th>\n",
       "      <td>3</td>\n",
       "      <td>stensele</td>\n",
       "      <td>SE</td>\n",
       "      <td>+65:04:00</td>\n",
       "      <td>+017:09:59</td>\n",
       "      <td>325</td>\n",
       "      <td>SE</td>\n",
       "      <td>Sweden</td>\n",
       "      <td>SWE</td>\n",
       "      <td>752</td>\n",
       "      <td>62.0</td>\n",
       "      <td>15.0</td>\n",
       "    </tr>\n",
       "    <tr>\n",
       "      <th>3</th>\n",
       "      <td>4</td>\n",
       "      <td>linkoeping</td>\n",
       "      <td>SE</td>\n",
       "      <td>+58:24:00</td>\n",
       "      <td>+015:31:59</td>\n",
       "      <td>93</td>\n",
       "      <td>SE</td>\n",
       "      <td>Sweden</td>\n",
       "      <td>SWE</td>\n",
       "      <td>752</td>\n",
       "      <td>62.0</td>\n",
       "      <td>15.0</td>\n",
       "    </tr>\n",
       "    <tr>\n",
       "      <th>4</th>\n",
       "      <td>5</td>\n",
       "      <td>linkoeping-malmslaett</td>\n",
       "      <td>SE</td>\n",
       "      <td>+58:24:00</td>\n",
       "      <td>+015:31:59</td>\n",
       "      <td>93</td>\n",
       "      <td>SE</td>\n",
       "      <td>Sweden</td>\n",
       "      <td>SWE</td>\n",
       "      <td>752</td>\n",
       "      <td>62.0</td>\n",
       "      <td>15.0</td>\n",
       "    </tr>\n",
       "    <tr>\n",
       "      <th>...</th>\n",
       "      <td>...</td>\n",
       "      <td>...</td>\n",
       "      <td>...</td>\n",
       "      <td>...</td>\n",
       "      <td>...</td>\n",
       "      <td>...</td>\n",
       "      <td>...</td>\n",
       "      <td>...</td>\n",
       "      <td>...</td>\n",
       "      <td>...</td>\n",
       "      <td>...</td>\n",
       "      <td>...</td>\n",
       "    </tr>\n",
       "    <tr>\n",
       "      <th>6450</th>\n",
       "      <td>25150</td>\n",
       "      <td>gdansk-rebiechowo_old</td>\n",
       "      <td>PL</td>\n",
       "      <td>+54:22:59</td>\n",
       "      <td>+018:28:00</td>\n",
       "      <td>144</td>\n",
       "      <td>PL</td>\n",
       "      <td>Poland</td>\n",
       "      <td>POL</td>\n",
       "      <td>616</td>\n",
       "      <td>52.0</td>\n",
       "      <td>20.0</td>\n",
       "    </tr>\n",
       "    <tr>\n",
       "      <th>6451</th>\n",
       "      <td>25151</td>\n",
       "      <td>elblag-milejewo</td>\n",
       "      <td>PL</td>\n",
       "      <td>+54:13:23</td>\n",
       "      <td>+019:32:36</td>\n",
       "      <td>151</td>\n",
       "      <td>PL</td>\n",
       "      <td>Poland</td>\n",
       "      <td>POL</td>\n",
       "      <td>616</td>\n",
       "      <td>52.0</td>\n",
       "      <td>20.0</td>\n",
       "    </tr>\n",
       "    <tr>\n",
       "      <th>6452</th>\n",
       "      <td>25156</td>\n",
       "      <td>krosno</td>\n",
       "      <td>PL</td>\n",
       "      <td>+49:42:24</td>\n",
       "      <td>+021:46:09</td>\n",
       "      <td>326</td>\n",
       "      <td>PL</td>\n",
       "      <td>Poland</td>\n",
       "      <td>POL</td>\n",
       "      <td>616</td>\n",
       "      <td>52.0</td>\n",
       "      <td>20.0</td>\n",
       "    </tr>\n",
       "    <tr>\n",
       "      <th>6453</th>\n",
       "      <td>25157</td>\n",
       "      <td>ylja kraftverk</td>\n",
       "      <td>NO</td>\n",
       "      <td>+61:11:49</td>\n",
       "      <td>+008:22:50</td>\n",
       "      <td>517</td>\n",
       "      <td>NO</td>\n",
       "      <td>Norway</td>\n",
       "      <td>NOR</td>\n",
       "      <td>578</td>\n",
       "      <td>62.0</td>\n",
       "      <td>10.0</td>\n",
       "    </tr>\n",
       "    <tr>\n",
       "      <th>6454</th>\n",
       "      <td>25159</td>\n",
       "      <td>farkollen</td>\n",
       "      <td>NO</td>\n",
       "      <td>+69:48:15</td>\n",
       "      <td>+028:59:36</td>\n",
       "      <td>321</td>\n",
       "      <td>NO</td>\n",
       "      <td>Norway</td>\n",
       "      <td>NOR</td>\n",
       "      <td>578</td>\n",
       "      <td>62.0</td>\n",
       "      <td>10.0</td>\n",
       "    </tr>\n",
       "  </tbody>\n",
       "</table>\n",
       "<p>6455 rows × 12 columns</p>\n",
       "</div>"
      ],
      "text/plain": [
       "      staid                staname  cn        lat         lon hight alpha2  \\\n",
       "0         1                vaexjoe  SE  +56:52:00  +014:48:00   166     SE   \n",
       "1         2                  falun  SE  +60:37:00  +015:37:00   160     SE   \n",
       "2         3               stensele  SE  +65:04:00  +017:09:59   325     SE   \n",
       "3         4             linkoeping  SE  +58:24:00  +015:31:59    93     SE   \n",
       "4         5  linkoeping-malmslaett  SE  +58:24:00  +015:31:59    93     SE   \n",
       "...     ...                    ...  ..        ...         ...   ...    ...   \n",
       "6450  25150  gdansk-rebiechowo_old  PL  +54:22:59  +018:28:00   144     PL   \n",
       "6451  25151        elblag-milejewo  PL  +54:13:23  +019:32:36   151     PL   \n",
       "6452  25156                 krosno  PL  +49:42:24  +021:46:09   326     PL   \n",
       "6453  25157         ylja kraftverk  NO  +61:11:49  +008:22:50   517     NO   \n",
       "6454  25159              farkollen  NO  +69:48:15  +028:59:36   321     NO   \n",
       "\n",
       "        name alpha3  code   lat   lon  \n",
       "0     Sweden    SWE   752  62.0  15.0  \n",
       "1     Sweden    SWE   752  62.0  15.0  \n",
       "2     Sweden    SWE   752  62.0  15.0  \n",
       "3     Sweden    SWE   752  62.0  15.0  \n",
       "4     Sweden    SWE   752  62.0  15.0  \n",
       "...      ...    ...   ...   ...   ...  \n",
       "6450  Poland    POL   616  52.0  20.0  \n",
       "6451  Poland    POL   616  52.0  20.0  \n",
       "6452  Poland    POL   616  52.0  20.0  \n",
       "6453  Norway    NOR   578  62.0  10.0  \n",
       "6454  Norway    NOR   578  62.0  10.0  \n",
       "\n",
       "[6455 rows x 12 columns]"
      ]
     },
     "execution_count": 27,
     "metadata": {},
     "output_type": "execute_result"
    }
   ],
   "source": [
    "stations_countries_df = pd.DataFrame(data, index = None)\n",
    "stations_countries_df"
   ]
  }
 ],
 "metadata": {
  "kernelspec": {
   "display_name": "Python 3 (ipykernel)",
   "language": "python",
   "name": "python3"
  },
  "language_info": {
   "codemirror_mode": {
    "name": "ipython",
    "version": 3
   },
   "file_extension": ".py",
   "mimetype": "text/x-python",
   "name": "python",
   "nbconvert_exporter": "python",
   "pygments_lexer": "ipython3",
   "version": "3.9.12"
  }
 },
 "nbformat": 4,
 "nbformat_minor": 5
}
